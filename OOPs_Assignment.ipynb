{
  "nbformat": 4,
  "nbformat_minor": 0,
  "metadata": {
    "colab": {
      "provenance": []
    },
    "kernelspec": {
      "name": "python3",
      "display_name": "Python 3"
    },
    "language_info": {
      "name": "python"
    }
  },
  "cells": [
    {
      "cell_type": "code",
      "execution_count": null,
      "metadata": {
        "id": "KAbHfur210ph"
      },
      "outputs": [],
      "source": [
        "# Python OOPs Assignment\n"
      ]
    },
    {
      "cell_type": "markdown",
      "source": [
        "# 1. What is Object-Oriented Programming (OOP)?\n",
        "Object-Oriented Programming (OOP) is a way of writing code using objects, which are like real-life things with properties (data) and actions (functions). It helps make programs easier to build, understand, and reuse.\n"
      ],
      "metadata": {
        "id": "K62T_DAd2Qtz"
      }
    },
    {
      "cell_type": "markdown",
      "source": [
        "# 2.What is a class in OOP?\n",
        "A class in OOP is like a blueprint for creating objects. It defines what properties and actions the objects will have.\n"
      ],
      "metadata": {
        "id": "767ZltK-2WD8"
      }
    },
    {
      "cell_type": "markdown",
      "source": [
        "# 3. What is an object in OOP?\n",
        "An object in OOP is a thing created from a class. It has the properties and actions defined by the class."
      ],
      "metadata": {
        "id": "-KB3FEIY2YMD"
      }
    },
    {
      "cell_type": "markdown",
      "source": [
        "# 4. What is the difference between abstraction and encapsulation?\n",
        "Abstraction means hiding the complex details and showing only what’s needed.\n",
        "Encapsulation means hiding the data and keeping it safe inside a class.\n",
        "\n",
        "👉 Abstraction hides how things work,\n",
        "👉 Encapsulation hides the data."
      ],
      "metadata": {
        "id": "_Zt0Ftlb2aw0"
      }
    },
    {
      "cell_type": "markdown",
      "source": [
        "# 5. What are dunder methods in Python?\n",
        "Dunder methods in Python are special methods that start and end with double underscores (like __init__, __str__).\n",
        "\n",
        "They are used to define how objects behave, like when you create them, print them, or add them.\n",
        "👉 \"Dunder\" means \"double underscore.\""
      ],
      "metadata": {
        "id": "il_kyxtW2fIb"
      }
    },
    {
      "cell_type": "markdown",
      "source": [
        "# 6. Explain the concept of inheritance in OOP?\n",
        "Inheritance in OOP means one class (child) can use features (like data and functions) from another class (parent).\n",
        "\n",
        "It helps to reuse code and make programs easier to manage.\n",
        "\n",
        "Simple Example in Python:\n",
        "\n",
        "class Animal:\n",
        "\n",
        "    def speak(self):\n",
        "    \n",
        "        print(\"This animal makes a sound.\")\n",
        "\n",
        "class Dog(Animal):\n",
        "\n",
        "    def speak(self):\n",
        "    \n",
        "        print(\"The dog barks.\")\n",
        "\n",
        "my_dog = Dog()\n",
        "\n",
        "my_dog.speak()  # Output: The dog barks."
      ],
      "metadata": {
        "id": "DsghZOOf2huE"
      }
    },
    {
      "cell_type": "markdown",
      "source": [
        "# 7. What is polymorphism in OOP?\n",
        "\n",
        "Polymorphism in OOP means one function or method can work in different ways depending on the object using it.\n",
        "\n",
        "It lets different classes use the same method name, but with different behavior."
      ],
      "metadata": {
        "id": "TWLG4cOx2prU"
      }
    },
    {
      "cell_type": "markdown",
      "source": [
        "# 8. How is encapsulation achieved in Python?\n",
        "\n",
        "Encapsulation in Python is achieved by hiding the internal details of a class and only exposing what’s necessary. This is usually done by making attributes private (using a leading underscore _ or double underscore __) and providing getter and setter methods to access or modify them.\n",
        "\n",
        "Example:\n",
        "class Car:\n",
        "\n",
        "    def __init__(self, make):\n",
        "    \n",
        "        self.__make = make  # private attribute\n",
        "    \n",
        "    def get_make(self):\n",
        "    \n",
        "        return self.__make  # getter method\n",
        "    \n",
        "    def set_make(self, make):\n",
        "    \n",
        "        self.__make = make  # setter method\n",
        "\n",
        "my_car = Car(\"Toyota\")\n",
        "\n",
        "  print(my_car.get_make())  # Output: Toyota\n",
        "  \n",
        "my_car.set_make(\"Honda\")\n",
        "\n",
        "  print(my_car.get_make())  # Output: Honda\n",
        "\n",
        "This way, the internal data is protected and can only be accessed in controlled ways."
      ],
      "metadata": {
        "id": "unOx8BlG3ARs"
      }
    },
    {
      "cell_type": "markdown",
      "source": [
        "# 9. What is a constructor in Python?\n",
        "A constructor in Python is a special method called __init__ that runs automatically when an object is created. It is used to initialize the object's attributes.\n",
        "\n",
        "Example:\n"
      ],
      "metadata": {
        "id": "dQSygR9F3ST8"
      }
    },
    {
      "cell_type": "markdown",
      "source": [
        "class Person:\n",
        "\n",
        "    def __init__(self, name, age):  # Constructor\n",
        "    \n",
        "        self.name = name\n",
        "        \n",
        "        self.age = age\n",
        "\n",
        "person1 = Person(\"Alice\", 25)  # Constructor is called here\n",
        "\n",
        "In short, the constructor is used to set up the object when it's created.\n"
      ],
      "metadata": {
        "id": "HIF3rqLt3WF9"
      }
    },
    {
      "cell_type": "markdown",
      "source": [
        "# 10. What are class and static methods in Python?\n",
        "In Python:\n",
        "\n",
        "Class method:\n",
        "\n",
        " A method that is bound to the class, not the instance. It takes cls as the first parameter (instead of self) and can access or modify class-level attributes.\n",
        "\n",
        "Example:\n",
        "class MyClass:\n",
        "\n",
        "    @classmethod\n",
        "    \n",
        "    def my_class_method(cls):\n",
        "    \n",
        "        print(\"This is a class method.\")\n",
        "\n",
        "MyClass.my_class_method()  # Calling the class method\n",
        "             \n",
        "Static method:\n",
        "\n",
        "A method that doesn’t take self or cls as the first parameter. It behaves like a regular function but belongs to the class. It can't access or modify instance or class-level data.\n",
        "\n",
        "Example:\n",
        "\n",
        "class MyClass:\n",
        "\n",
        "    @staticmethod\n",
        "    \n",
        "    def my_static_method():\n",
        "    \n",
        "        print(\"This is a static method.\")\n",
        "\n",
        "MyClass.my_static_method()  # Calling the static method\n",
        "\n",
        "In short:\n",
        "\n",
        "Class methods work with the class itself.\n",
        "\n",
        "Static methods don't work with the class or instance, they just belong to the class."
      ],
      "metadata": {
        "id": "05Kn8LYe3XcU"
      }
    },
    {
      "cell_type": "markdown",
      "source": [
        "# 11. What is method overloading in Python?\n",
        "\n",
        "Method overloading in Python means having multiple methods with the same name but different parameters. However, Python doesn't support traditional method overloading (like other languages) where you can define multiple methods with the same name but different argument types. Instead, it uses default arguments or variable-length arguments to achieve similar behavior.\n",
        "\n",
        "Example:\n",
        "class Example:\n",
        "\n",
        "    def greet(self, name=\"Guest\"):\n",
        "    \n",
        "        print(f\"Hello, {name}!\")\n",
        "\n",
        "obj = Example()\n",
        "\n",
        "obj.greet()        # Output: Hello, Guest!\n",
        "\n",
        "obj.greet(\"Alice\") # Output: Hello, Alice!\n"
      ],
      "metadata": {
        "id": "8vEJ1Lbz34jz"
      }
    },
    {
      "cell_type": "markdown",
      "source": [
        "# 12. What is method overriding in OOP?\n",
        "\n",
        "Method overriding in OOP happens when a child class provides its own version of a method that is already defined in its parent class. This allows the child class to change or extend the behavior of the parent class's method.\n",
        "\n",
        "Example:\n",
        "\n",
        "class Animal:\n",
        "\n",
        "    def speak(self):\n",
        "    \n",
        "        print(\"Animal makes a sound\")\n",
        "\n",
        "class Dog(Animal):\n",
        "\n",
        "    def speak(self):  # Overriding the parent method\n",
        "    \n",
        "        print(\"Dog barks\")\n",
        "\n",
        "dog = Dog()\n",
        "\n",
        "dog.speak()  # Output: Dog barks\n",
        "\n",
        "In short: Method overriding lets the child class change how a method from the parent class works."
      ],
      "metadata": {
        "id": "7PJWDvAy390k"
      }
    },
    {
      "cell_type": "markdown",
      "source": [
        "# 13. What is a property decorator in Python?\n",
        "\n",
        "The property decorator in Python is used to convert a method into a read-only property. It allows you to access a method like an attribute without calling it like a function.\n",
        "\n",
        "Example:\n",
        "\n",
        "class Person:\n",
        "\n",
        "    def __init__(self, age):\n",
        "    \n",
        "        self._age = age\n",
        "\n",
        "    @property\n",
        "    \n",
        "    def age(self):\n",
        "    \n",
        "        return self._age\n",
        "\n",
        "person = Person(25)\n",
        "\n",
        "print(person.age)  # Accessing like an attribute\n",
        "\n",
        "In short: The property decorator lets you treat a method like an attribute, so you can get the value without needing to call it as a function."
      ],
      "metadata": {
        "id": "YnHLWwHS4Ahs"
      }
    },
    {
      "cell_type": "markdown",
      "source": [
        "# 14. Why is polymorphism important in OOP?\n",
        "\n",
        "Polymorphism is important in OOP because it allows different objects to use the same method in their own way, making the code more flexible and reusable. It helps to write generic code that works with different types of objects, reducing duplication and improving maintainability.\n"
      ],
      "metadata": {
        "id": "SakdZbU64Eb8"
      }
    },
    {
      "cell_type": "markdown",
      "source": [
        "# 15. What is an abstract class in Python?\n",
        "\n",
        "An abstract class in Python is a class that cannot be instantiated directly. It is used as a blueprint for other classes. It can have abstract methods that must be implemented by subclasses.\n",
        "\n",
        "To create an abstract class, you use the abc module.\n",
        "\n",
        "Example:"
      ],
      "metadata": {
        "id": "cTjtNlc04Gfc"
      }
    },
    {
      "cell_type": "markdown",
      "source": [
        "from abc import ABC, abstractmethod\n",
        "\n",
        "class Animal(ABC):\n",
        "\n",
        "    @abstractmethod\n",
        "    \n",
        "    def sound(self):\n",
        "    \n",
        "        pass\n",
        "\n",
        "class Dog(Animal):\n",
        "\n",
        "    def sound(self):\n",
        "    \n",
        "        print(\"Bark\")\n",
        "\n",
        "# animal = Animal()  # This will raise an error because Animal is abstract\n",
        "\n",
        "dog = Dog()\n",
        "\n",
        "dog.sound()  # Output: Bark\n",
        "\n",
        "\n"
      ],
      "metadata": {
        "id": "WEW7AC924JpU"
      }
    },
    {
      "cell_type": "markdown",
      "source": [
        "# 16. What are the advantages of OOP?\n",
        "\n",
        "The advantages of OOP are:\n",
        "\n",
        "Reusability: You can reuse code through inheritance and classes.\n",
        "\n",
        "Modularity: Code is organized into classes and objects, making it easier to manage and update.\n",
        "\n",
        "Scalability: It's easier to add new features without affecting the existing code.\n",
        "\n",
        "Maintainability: Bugs are easier to find and fix due to well-organized code.\n",
        "\n",
        "Abstraction: Complex systems can be simplified by hiding details and focusing on high-level functionality.\n",
        "\n",
        "In short: OOP makes code easier to manage, reuse, and extend."
      ],
      "metadata": {
        "id": "wBVzBpqR4Xgr"
      }
    },
    {
      "cell_type": "markdown",
      "source": [
        "# 17. What is the difference between a class variable and an instance variable?\n",
        "\n",
        "Class variable: A variable shared by all instances of a class. It's defined inside the class and can be accessed using the class name or any instance.\n",
        "\n",
        "Instance variable: A variable unique to each instance of a class. It's defined inside the __init__ method and is specific to that object.\n",
        "\n",
        "Example:\n"
      ],
      "metadata": {
        "id": "olJSjb_K4bVF"
      }
    },
    {
      "cell_type": "markdown",
      "source": [
        "class Car:\n",
        "\n",
        "    wheels = 4  # Class variable (shared by all instances)\n",
        "\n",
        "    def __init__(self, color):\n",
        "    \n",
        "        self.color = color  # Instance variable (unique for each instance)\n",
        "\n",
        "car1 = Car(\"Red\")\n",
        "\n",
        "car2 = Car(\"Blue\")\n",
        "\n",
        "print(car1.wheels)  # 4\n",
        "\n",
        "print(car1.color)   # Red\n",
        "\n",
        "In short:\n",
        "\n",
        "Class variable: Shared by all instances.\n",
        "\n",
        "Instance variable: Unique to each instance."
      ],
      "metadata": {
        "id": "cB2DM2Y_4fhd"
      }
    },
    {
      "cell_type": "markdown",
      "source": [
        "# 18. What is multiple inheritance in Python?\n",
        "\n",
        "Multiple inheritance in Python is when a class inherits from more than one class. This allows the child class to use methods and attributes from multiple parent classes.\n",
        "\n",
        "Example:\n",
        "\n",
        "class Animal:\n",
        "\n",
        "    def speak(self):\n",
        "    \n",
        "        print(\"Animal speaks\")\n",
        "\n",
        "class Mammal:\n",
        "\n",
        "    def walk(self):\n",
        "    \n",
        "        print(\"Mammal walks\")\n",
        "\n",
        "class Dog(Animal, Mammal):\n",
        "\n",
        "    pass\n",
        "\n",
        "dog = Dog()\n",
        "\n",
        "dog.speak()  # Output: Animal speaks\n",
        "\n",
        "dog.walk()   # Output: Mammal walks\n",
        "\n",
        "In short: Multiple inheritance allows a class to inherit features from multiple parent classes.\n"
      ],
      "metadata": {
        "id": "V_j5W4Tu4iPU"
      }
    },
    {
      "cell_type": "markdown",
      "source": [
        "# 19. Explain the purpose of ‘’__str__’ and ‘__repr__’ ‘ methods in Python.\n",
        "\n",
        "The __str__ and __repr__ methods in Python are used to define how an object is represented as a string.\n",
        "\n",
        "__str__: Provides a user-friendly string representation of an object, typically for printing or displaying to users.\n",
        "\n",
        "__repr__: Provides an unambiguous string representation of an object, often used for debugging or logging. It should ideally return a string that can be used to recreate the object.\n",
        "\n",
        "Example:\n",
        "\n",
        "class Person:\n",
        "\n",
        "    def __init__(self, name):\n",
        "    \n",
        "        self.name = name\n",
        "\n",
        "    def __str__(self):\n",
        "    \n",
        "        return f\"Person's name is {self.name}\"\n",
        "\n",
        "    def __repr__(self):\n",
        "    \n",
        "        return f\"Person({repr(self.name)})\"\n",
        "\n",
        "p = Person(\"Alice\")\n",
        "\n",
        "print(str(p))   # Output: Person's name is Alice\n",
        "\n",
        "print(repr(p))  # Output: Person('Alice')\n",
        "\n",
        "\n",
        "In short:\n",
        "\n",
        "__str__: For user-friendly display.\n",
        "\n",
        "__repr__: For developer-friendly representation.\n"
      ],
      "metadata": {
        "id": "q5OMNlBh4pPT"
      }
    },
    {
      "cell_type": "markdown",
      "source": [
        "# 20. What is the significance of the ‘super()’ function in Python?\n",
        "\n",
        "The super() function in Python is used to call methods from a parent class (superclass) in a child class. It helps to access and extend the functionality of the parent class.\n",
        "\n",
        "Example:\n",
        "\n",
        "class Animal:\n",
        "\n",
        "    def speak(self):\n",
        "    \n",
        "        print(\"Animal speaks\")\n",
        "\n",
        "class Dog(Animal):\n",
        "\n",
        "    def speak(self):\n",
        "    \n",
        "        super().speak()  # Calling parent class method\n",
        "        \n",
        "        print(\"Dog barks\")\n",
        "\n",
        "dog = Dog()\n",
        "\n",
        "dog.speak()\n",
        "\n",
        "# Output:\n",
        "\n",
        "# Animal speaks\n",
        "\n",
        "# Dog barks\n",
        "\n",
        "In short: super() lets the child class call methods from the parent class, allowing code reuse and extending functionality."
      ],
      "metadata": {
        "id": "Qj3CSfhY4wkM"
      }
    },
    {
      "cell_type": "markdown",
      "source": [
        "# 21. What is the significance of the __del__ method in Python?\n",
        "\n",
        "The __del__ method in Python is a destructor method that is called when an object is destroyed or garbage collected. It is used to clean up resources, like closing files or releasing memory, before the object is removed.\n",
        "\n",
        "Example:\n",
        "\n",
        "class MyClass:\n",
        "\n",
        "    def __del__(self):\n",
        "    \n",
        "        print(\"Object is being destroyed\")\n",
        "\n",
        "obj = MyClass()\n",
        "\n",
        "del obj  # Output: Object is being destroyed\n",
        "\n",
        "In short: The __del__ method is used to clean up an object before it is deleted.\n"
      ],
      "metadata": {
        "id": "BK0HS7mD43uj"
      }
    },
    {
      "cell_type": "markdown",
      "source": [
        "# 22.  What is the difference between @staticmethod and @classmethod in Python?\n",
        "\n",
        "@staticmethod: A method that doesn’t take self or cls as the first argument. It behaves like a regular function, but belongs to the class.\n",
        "\n",
        "@classmethod: A method that takes cls as the first argument (instead of self). It can access or modify class-level attributes.\n",
        "\n",
        "Example:\n",
        "\n",
        "class MyClass:\n",
        "\n",
        "    @staticmethod\n",
        "    \n",
        "    def static_method():\n",
        "    \n",
        "        print(\"This is a static method.\")\n",
        "    \n",
        "    @classmethod\n",
        "    \n",
        "    def class_method(cls):\n",
        "    \n",
        "        print(\"This is a class method.\")\n",
        "\n",
        "MyClass.static_method()  # No access to class or instance\n",
        "\n",
        "MyClass.class_method()   # Access to class-level data\n",
        "\n",
        "In short:\n",
        "\n",
        "@staticmethod: No access to instance or class data.\n",
        "\n",
        "@classmethod: Access to class data."
      ],
      "metadata": {
        "id": "jMtux7w45BS0"
      }
    },
    {
      "cell_type": "markdown",
      "source": [
        "# 23.How does polymorphism work in Python with inheritance?\n",
        "\n",
        "Polymorphism in Python with inheritance allows a child class to use a method defined in a parent class, but with a different implementation. This means the same method name can behave differently depending on the object (parent or child).\n",
        "\n",
        "Example:\n",
        "\n",
        "class Animal:\n",
        "\n",
        "    def speak(self):\n",
        "    \n",
        "        print(\"Animal speaks\")\n",
        "\n",
        "class Dog(Animal):\n",
        "\n",
        "    def speak(self):\n",
        "    \n",
        "        print(\"Dog barks\")\n",
        "\n",
        "class Cat(Animal):\n",
        "\n",
        "    def speak(self):\n",
        "\n",
        "        print(\"Cat meows\")\n",
        "\n",
        "# Polymorphism in action\n",
        "\n",
        "animals = [Dog(), Cat()]\n",
        "\n",
        "for animal in animals:\n",
        "\n",
        "    animal.speak()  # Output: Dog barks, Cat meows\n",
        "\n",
        "In short: Polymorphism lets different child classes use the same method name but with different behavior.\n",
        "\n",
        "    "
      ],
      "metadata": {
        "id": "DSFkpNLX5fes"
      }
    },
    {
      "cell_type": "markdown",
      "source": [
        "# 24. What is method chaining in Python OOP?\n",
        "\n",
        "Method chaining in Python OOP is when you call multiple methods on the same object in a single line. Each method returns the object itself (self), allowing you to chain the calls together.\n",
        "\n",
        "Example:\n",
        "\n",
        "class Car:\n",
        "\n",
        "    def start(self):\n",
        "    \n",
        "        print(\"Car started\")\n",
        "        \n",
        "        return self\n",
        "    \n",
        "    def drive(self):\n",
        "    \n",
        "        print(\"Car is driving\")\n",
        "        \n",
        "        return self\n",
        "    \n",
        "    def stop(self):\n",
        "    \n",
        "        print(\"Car stopped\")\n",
        "        \n",
        "        return self\n",
        "\n",
        "car = Car()\n",
        "\n",
        "car.start().drive().stop()\n",
        "\n",
        "# Output:\n",
        "\n",
        "# Car started\n",
        "\n",
        "# Car is driving\n",
        "\n",
        "# Car stopped\n",
        "\n",
        "\n",
        "In short: Method chaining allows calling multiple methods one after another on the same object in a single line.\n"
      ],
      "metadata": {
        "id": "1-TvYgMZ5mPb"
      }
    },
    {
      "cell_type": "markdown",
      "source": [
        "# 25. What is the purpose of the __call__ method in Python?\n",
        "\n",
        "The __call__ method in Python allows an object to be called like a function. When you define __call__ in a class, you can use an instance of the class as if it were a function.\n",
        "\n",
        "Example:\n",
        "\n",
        "class MyClass:\n",
        "\n",
        "    def __call__(self):\n",
        "    \n",
        "        print(\"Object is called like a function!\")\n",
        "\n",
        "obj = MyClass()\n",
        "\n",
        "obj()  # Output: Object is called like a function!\n",
        "\n",
        "\n",
        "In short: The __call__ method makes an object callable, like a regular function.\n"
      ],
      "metadata": {
        "id": "nMdW7DNo5vvU"
      }
    },
    {
      "cell_type": "markdown",
      "source": [
        "# Practical Q/A"
      ],
      "metadata": {
        "id": "4UmW_1li5zXN"
      }
    },
    {
      "cell_type": "code",
      "source": [
        "# 1. Create a parent class Animal with a method speak() that prints a generic message. Create a child class Dog that overrides the speak() method to print \"Bark!\".\n",
        "\n",
        "# Parent class\n",
        "class Animal:\n",
        "    def speak(self):\n",
        "        print(\"Animal makes a sound\")\n",
        "\n",
        "# Child class\n",
        "class Dog(Animal):\n",
        "    def speak(self):\n",
        "        print(\"Bark!\")\n",
        "\n",
        "# Create an object of Dog and call the speak() method\n",
        "dog = Dog()\n",
        "dog.speak()  # Output: Bark!\n"
      ],
      "metadata": {
        "colab": {
          "base_uri": "https://localhost:8080/"
        },
        "id": "Be9fcrLT53gF",
        "outputId": "3bd5ec96-ce53-4aac-fa39-d96992909e90"
      },
      "execution_count": 1,
      "outputs": [
        {
          "output_type": "stream",
          "name": "stdout",
          "text": [
            "Bark!\n"
          ]
        }
      ]
    },
    {
      "cell_type": "code",
      "source": [
        "# 2.  Write a program to create an abstract class Shape with a method area(). Derive classes Circle and Rectangle from it and implement the area() method in both.\n",
        "\n",
        "from abc import ABC, abstractmethod\n",
        "import math\n",
        "\n",
        "# Abstract class\n",
        "class Shape(ABC):\n",
        "    @abstractmethod\n",
        "    def area(self):\n",
        "        pass\n",
        "\n",
        "# Derived class: Circle\n",
        "class Circle(Shape):\n",
        "    def __init__(self, radius):\n",
        "        self.radius = radius\n",
        "\n",
        "    def area(self):\n",
        "        return math.pi * self.radius * self.radius\n",
        "\n",
        "# Derived class: Rectangle\n",
        "class Rectangle(Shape):\n",
        "    def __init__(self, length, width):\n",
        "        self.length = length\n",
        "        self.width = width\n",
        "\n",
        "    def area(self):\n",
        "        return self.length * self.width\n",
        "\n",
        "\n",
        "# Create objects and display area\n",
        "circle = Circle(5)\n",
        "rectangle = Rectangle(4, 6)\n",
        "\n",
        "print(\"Circle Area:\", circle.area())       # Output: Circle Area: 78.54...\n",
        "print(\"Rectangle Area:\", rectangle.area()) # Output: Rectangle Area: 24\n"
      ],
      "metadata": {
        "colab": {
          "base_uri": "https://localhost:8080/"
        },
        "id": "GaRKTpU37OVy",
        "outputId": "34c0157e-3174-49f8-e45a-ef97cb3368f7"
      },
      "execution_count": 2,
      "outputs": [
        {
          "output_type": "stream",
          "name": "stdout",
          "text": [
            "Circle Area: 78.53981633974483\n",
            "Rectangle Area: 24\n"
          ]
        }
      ]
    },
    {
      "cell_type": "code",
      "source": [
        "# 3. Implement a multi-level inheritance scenario where a class Vehicle has an attribute type. Derive a class Car and further derive a class ElectricCar that adds a battery attribute.\n",
        "# Base class\n",
        "class Vehicle:\n",
        "    def __init__(self, vehicle_type):\n",
        "        self.type = vehicle_type\n",
        "\n",
        "# Derived class from Vehicle\n",
        "class Car(Vehicle):\n",
        "    def __init__(self, vehicle_type, brand):\n",
        "        super().__init__(vehicle_type)\n",
        "        self.brand = brand\n",
        "\n",
        "# Derived class from Car (multi-level inheritance)\n",
        "class ElectricCar(Car):\n",
        "    def __init__(self, vehicle_type, brand, battery):\n",
        "        super().__init__(vehicle_type, brand)\n",
        "        self.battery = battery\n",
        "\n",
        "    def display_info(self):\n",
        "        print(f\"Type: {self.type}\")\n",
        "        print(f\"Brand: {self.brand}\")\n",
        "        print(f\"Battery: {self.battery} kWh\")\n",
        "\n",
        "# Create an object of ElectricCar and display info\n",
        "my_electric_car = ElectricCar(\"Four-Wheeler\", \"Tesla\", 75)\n",
        "my_electric_car.display_info()\n"
      ],
      "metadata": {
        "colab": {
          "base_uri": "https://localhost:8080/"
        },
        "id": "1X400G0E8Cqx",
        "outputId": "76fef88b-46fd-4000-ac1e-eb3abca8375f"
      },
      "execution_count": 3,
      "outputs": [
        {
          "output_type": "stream",
          "name": "stdout",
          "text": [
            "Type: Four-Wheeler\n",
            "Brand: Tesla\n",
            "Battery: 75 kWh\n"
          ]
        }
      ]
    },
    {
      "cell_type": "code",
      "source": [
        "# 4. Demonstrate polymorphism by creating a base class Bird with a method fly(). Create two derived classes Sparrow and Penguin that override the fly() method.\n",
        "\n",
        "# Base class\n",
        "class Bird:\n",
        "    def fly(self):\n",
        "        print(\"Some birds can fly.\")\n",
        "\n",
        "# Derived class\n",
        "class Sparrow(Bird):\n",
        "    def fly(self):\n",
        "        print(\"Sparrow flies high in the sky.\")\n",
        "\n",
        "# Derived class\n",
        "class Penguin(Bird):\n",
        "    def fly(self):\n",
        "        print(\"Penguins can't fly, they swim.\")\n",
        "\n",
        "# Function that uses polymorphism\n",
        "def bird_fly(bird):\n",
        "    bird.fly()\n",
        "\n",
        "# Create objects\n",
        "sparrow = Sparrow()\n",
        "penguin = Penguin()\n",
        "\n",
        "# Demonstrate polymorphism\n",
        "bird_fly(sparrow)  # Output: Sparrow flies high in the sky.\n",
        "bird_fly(penguin)  # Output: Penguins can't fly, they swim."
      ],
      "metadata": {
        "colab": {
          "base_uri": "https://localhost:8080/"
        },
        "id": "9zGgbTAh8Kgc",
        "outputId": "ac06182a-5cf9-4dd8-c4da-5c31edd4d224"
      },
      "execution_count": 4,
      "outputs": [
        {
          "output_type": "stream",
          "name": "stdout",
          "text": [
            "Sparrow flies high in the sky.\n",
            "Penguins can't fly, they swim.\n"
          ]
        }
      ]
    },
    {
      "cell_type": "code",
      "source": [
        "# 5. Write a program to demonstrate encapsulation by creating a class BankAccount with private attributes balance and methods to deposit, withdraw, and check balance.\n",
        "class BankAccount:\n",
        "    def __init__(self, initial_balance=0):\n",
        "        self.__balance = initial_balance  # Private attribute\n",
        "\n",
        "    def deposit(self, amount):\n",
        "        if amount > 0:\n",
        "            self.__balance += amount\n",
        "            print(f\"Deposited: ${amount}\")\n",
        "        else:\n",
        "            print(\"Invalid deposit amount.\")\n",
        "\n",
        "    def withdraw(self, amount):\n",
        "        if 0 < amount <= self.__balance:\n",
        "            self.__balance -= amount\n",
        "            print(f\"Withdrew: ${amount}\")\n",
        "        else:\n",
        "            print(\"Invalid or insufficient funds.\")\n",
        "\n",
        "    def check_balance(self):\n",
        "        print(f\"Current Balance: ${self.__balance}\")\n",
        "\n",
        "# Create an account and test methods\n",
        "account = BankAccount(100)\n",
        "account.check_balance()      # Output: Current Balance: $100\n",
        "account.deposit(50)          # Output: Deposited: $50\n",
        "account.withdraw(30)         # Output: Withdrew: $30\n",
        "account.check_balance()      # Output: Current Balance: $120\n"
      ],
      "metadata": {
        "colab": {
          "base_uri": "https://localhost:8080/"
        },
        "id": "Rg0QWG6y8QLd",
        "outputId": "fe474e12-ebaf-4405-95c6-eca690e7fddc"
      },
      "execution_count": 5,
      "outputs": [
        {
          "output_type": "stream",
          "name": "stdout",
          "text": [
            "Current Balance: $100\n",
            "Deposited: $50\n",
            "Withdrew: $30\n",
            "Current Balance: $120\n"
          ]
        }
      ]
    },
    {
      "cell_type": "code",
      "source": [
        "# 6. Demonstrate runtime polymorphism using a method play() in a base class Instrument. Derive classes Guitar and Piano that implement their own version of play().\n",
        "\n",
        "# Base class\n",
        "class Instrument:\n",
        "    def play(self):\n",
        "        print(\"Playing an instrument.\")\n",
        "\n",
        "# Derived class\n",
        "class Guitar(Instrument):\n",
        "    def play(self):\n",
        "        print(\"Strumming the guitar.\")\n",
        "\n",
        "# Derived class\n",
        "class Piano(Instrument):\n",
        "    def play(self):\n",
        "        print(\"Playing the piano.\")\n",
        "\n",
        "# Function to demonstrate runtime polymorphism\n",
        "def start_playing(instrument):\n",
        "    instrument.play()\n",
        "\n",
        "# Create objects\n",
        "guitar = Guitar()\n",
        "piano = Piano()\n",
        "\n",
        "# Call play() method using base class reference\n",
        "start_playing(guitar)  # Output: Strumming the guitar."
      ],
      "metadata": {
        "colab": {
          "base_uri": "https://localhost:8080/"
        },
        "id": "OJ6rAW4b8YXC",
        "outputId": "406410ae-483c-4ab3-9c87-b14c7a80db9b"
      },
      "execution_count": 6,
      "outputs": [
        {
          "output_type": "stream",
          "name": "stdout",
          "text": [
            "Strumming the guitar.\n"
          ]
        }
      ]
    },
    {
      "cell_type": "code",
      "source": [
        "# 7. Create a class MathOperations with a class method add_numbers() to add two numbers and a static method subtract_numbers() to subtract two numbers.\n",
        "\n",
        "class MathOperations:\n",
        "    @classmethod\n",
        "    def add_numbers(cls, a, b):\n",
        "        return a + b\n",
        "\n",
        "    @staticmethod\n",
        "    def subtract_numbers(a, b):\n",
        "        return a - b\n",
        "\n",
        "# Using the methods\n",
        "print(\"Addition:\", MathOperations.add_numbers(10, 5))      # Output: 15\n",
        "print(\"Subtraction:\", MathOperations.subtract_numbers(10, 5))  # Output: 5\n"
      ],
      "metadata": {
        "colab": {
          "base_uri": "https://localhost:8080/"
        },
        "id": "SVm3dhcL8aho",
        "outputId": "5aaa4aca-e0b8-4cff-b3d1-536058aaea08"
      },
      "execution_count": 7,
      "outputs": [
        {
          "output_type": "stream",
          "name": "stdout",
          "text": [
            "Addition: 15\n",
            "Subtraction: 5\n"
          ]
        }
      ]
    },
    {
      "cell_type": "code",
      "source": [
        "# 8. Implement a class Person with a class method to count the total number of persons created\n",
        "\n",
        "class Person:\n",
        "    count = 0  # Class variable to track number of persons\n",
        "\n",
        "    def __init__(self, name):\n",
        "        self.name = name\n",
        "        Person.count += 1  # Increment count when a new person is created\n",
        "\n",
        "    @classmethod\n",
        "    def total_persons(cls):\n",
        "        return cls.count\n",
        "\n",
        "# Create some Person objects\n",
        "p1 = Person(\"Alice\")\n",
        "p2 = Person(\"Bob\")\n",
        "p3 = Person(\"Charlie\")\n",
        "\n",
        "# Get total number of persons created\n",
        "print(\"Total persons created:\", Person.total_persons())  # Output: 3\n"
      ],
      "metadata": {
        "colab": {
          "base_uri": "https://localhost:8080/"
        },
        "id": "yFHc2zTy8c3D",
        "outputId": "6c83264d-0221-41f9-8f40-659193baa362"
      },
      "execution_count": 8,
      "outputs": [
        {
          "output_type": "stream",
          "name": "stdout",
          "text": [
            "Total persons created: 3\n"
          ]
        }
      ]
    },
    {
      "cell_type": "code",
      "source": [
        "# 9. Write a class Fraction with attributes numerator and denominator. Override the str method to display the fraction as \"numerator/denominator\".\n",
        "\n",
        "class Fraction:\n",
        "    def __init__(self, numerator, denominator):\n",
        "        self.numerator = numerator\n",
        "        self.denominator = denominator\n",
        "\n",
        "    def __str__(self):\n",
        "        return f\"{self.numerator}/{self.denominator}\"\n",
        "\n",
        "# Create a Fraction object and print it\n",
        "f = Fraction(3, 4)\n",
        "print(f)  # Output: 3/4"
      ],
      "metadata": {
        "colab": {
          "base_uri": "https://localhost:8080/"
        },
        "id": "8O21oeDr8glM",
        "outputId": "d0755d6f-ecf2-41c6-89ac-6f28ba7a6bbf"
      },
      "execution_count": 9,
      "outputs": [
        {
          "output_type": "stream",
          "name": "stdout",
          "text": [
            "3/4\n"
          ]
        }
      ]
    },
    {
      "cell_type": "code",
      "source": [
        "# 10. Demonstrate operator overloading by creating a class Vector and overriding the add method to add two vectors.\n",
        "\n",
        "class Vector:\n",
        "    def __init__(self, x, y):\n",
        "        self.x = x\n",
        "        self.y = y\n",
        "\n",
        "    # Overloading the + operator\n",
        "    def __add__(self, other):\n",
        "        return Vector(self.x + other.x, self.y + other.y)\n",
        "\n",
        "    def __str__(self):\n",
        "        return f\"Vector({self.x}, {self.y})\"\n",
        "\n",
        "# Create two Vector objects\n",
        "v1 = Vector(2, 3)\n",
        "v2 = Vector(4, 5)\n",
        "\n",
        "# Add the vectors using +\n",
        "v3 = v1 + v2\n",
        "\n",
        "# Print the result\n",
        "print(v3)  # Output: Vector(6, 8)"
      ],
      "metadata": {
        "colab": {
          "base_uri": "https://localhost:8080/"
        },
        "id": "wWLjwng48lem",
        "outputId": "5a24c914-6d40-4f8c-b850-01c8b5a12215"
      },
      "execution_count": 10,
      "outputs": [
        {
          "output_type": "stream",
          "name": "stdout",
          "text": [
            "Vector(6, 8)\n"
          ]
        }
      ]
    },
    {
      "cell_type": "code",
      "source": [
        "# 11. Create a class Person with attributes name and age. Add a method greet() that prints \"Hello, my name is {name} and I am {age} years old.\"\n",
        "\n",
        "class Person:\n",
        "    def __init__(self, name, age):\n",
        "        self.name = name\n",
        "        self.age = age\n",
        "\n",
        "    def greet(self):\n",
        "        print(f\"Hello, my name is {self.name} and I am {self.age} years old.\")\n",
        "\n",
        "# Create a Person object and call the greet method\n",
        "p = Person(\"Alice\", 25)\n",
        "p.greet()  # Output: Hello, my name is Alice and I am 25 years old.\n"
      ],
      "metadata": {
        "colab": {
          "base_uri": "https://localhost:8080/"
        },
        "id": "n-hJG6Fe8nLh",
        "outputId": "bdcd880a-31b8-4e37-af01-70b65535fe7a"
      },
      "execution_count": 11,
      "outputs": [
        {
          "output_type": "stream",
          "name": "stdout",
          "text": [
            "Hello, my name is Alice and I am 25 years old.\n"
          ]
        }
      ]
    },
    {
      "cell_type": "code",
      "source": [
        "# 12. Implement a class Student with attributes name and grades. Create a method average_grade() to compute the average of the grades.\n",
        "\n",
        "class Student:\n",
        "    def __init__(self, name, grades):\n",
        "        self.name = name\n",
        "        self.grades = grades\n",
        "\n",
        "    def average_grade(self):\n",
        "        return sum(self.grades) / len(self.grades)\n",
        "\n",
        "# Create a Student object\n",
        "student = Student(\"John\", [85, 90, 78, 92, 88])\n",
        "\n",
        "# Calculate and print the average grade\n",
        "print(f\"{student.name}'s average grade is: {student.average_grade():.2f}\")\n",
        "# Output: John's average grade is: 86.60\n"
      ],
      "metadata": {
        "colab": {
          "base_uri": "https://localhost:8080/"
        },
        "id": "A2QkQUs28p-o",
        "outputId": "786da106-0d2d-46ec-e58d-fae7d836dbd1"
      },
      "execution_count": 12,
      "outputs": [
        {
          "output_type": "stream",
          "name": "stdout",
          "text": [
            "John's average grade is: 86.60\n"
          ]
        }
      ]
    },
    {
      "cell_type": "code",
      "source": [
        "# 13. Create a class Rectangle with methods set_dimensions() to set the dimensions and area() to calculate the area.\n",
        "\n",
        "class Rectangle:\n",
        "    def __init__(self):\n",
        "        self.length = 0\n",
        "        self.width = 0\n",
        "\n",
        "    def set_dimensions(self, length, width):\n",
        "        self.length = length\n",
        "        self.width = width\n",
        "\n",
        "    def area(self):\n",
        "        return self.length * self.width\n",
        "\n",
        "# Create a Rectangle object and set dimensions\n",
        "rectangle = Rectangle()\n",
        "rectangle.set_dimensions(5, 3)\n",
        "\n",
        "# Calculate and print the area\n",
        "print(f\"The area of the rectangle is: {rectangle.area()}\")  # Output: 15\n"
      ],
      "metadata": {
        "colab": {
          "base_uri": "https://localhost:8080/"
        },
        "id": "FqqSnSVz8sdm",
        "outputId": "c481cd06-08ad-4e6d-ec3a-aa370cd09dc3"
      },
      "execution_count": 13,
      "outputs": [
        {
          "output_type": "stream",
          "name": "stdout",
          "text": [
            "The area of the rectangle is: 15\n"
          ]
        }
      ]
    },
    {
      "cell_type": "code",
      "source": [
        "# 14. Create a class Employee with a method calculate_salary() that computes the salary based on hours worked and hourly rate. Create a derived class Manager that adds a bonus to the salary.\n",
        "\n",
        "# Base class\n",
        "class Employee:\n",
        "    def __init__(self, name, hours_worked, hourly_rate):\n",
        "        self.name = name\n",
        "        self.hours_worked = hours_worked\n",
        "        self.hourly_rate = hourly_rate\n",
        "\n",
        "    def calculate_salary(self):\n",
        "        return self.hours_worked * self.hourly_rate\n",
        "\n",
        "# Derived class\n",
        "class Manager(Employee):\n",
        "    def __init__(self, name, hours_worked, hourly_rate, bonus):\n",
        "        super().__init__(name, hours_worked, hourly_rate)\n",
        "        self.bonus = bonus\n",
        "\n",
        "    def calculate_salary(self):\n",
        "        # Adding bonus to the base salary\n",
        "        base_salary = super().calculate_salary()\n",
        "        return base_salary + self.bonus\n",
        "\n",
        "# Create an Employee object\n",
        "employee = Employee(\"Alice\", 40, 25)\n",
        "print(f\"{employee.name}'s salary: ${employee.calculate_salary()}\")  # Output: 1000\n",
        "\n",
        "# Create a Manager object\n",
        "manager = Manager(\"Bob\", 40, 30, 500)\n",
        "print(f\"{manager.name}'s salary: ${manager.calculate_salary()}\")  # Output: 1700\n"
      ],
      "metadata": {
        "colab": {
          "base_uri": "https://localhost:8080/"
        },
        "id": "8IgOvxKu8wev",
        "outputId": "cefe93c2-ba6b-4d6d-ef7c-de6cd1df0660"
      },
      "execution_count": 15,
      "outputs": [
        {
          "output_type": "stream",
          "name": "stdout",
          "text": [
            "Alice's salary: $1000\n",
            "Bob's salary: $1700\n"
          ]
        }
      ]
    },
    {
      "cell_type": "code",
      "source": [
        "# 15. Create a class Product with attributes name, price, and quantity. Implement a method total_price() that calculates the total price of the product.\n",
        "\n",
        "class Product:\n",
        "    def __init__(self, name, price, quantity):\n",
        "        self.name = name\n",
        "        self.price = price\n",
        "        self.quantity = quantity\n",
        "\n",
        "    def total_price(self):\n",
        "        return self.price * self.quantity\n",
        "\n",
        "# Create a Product object\n",
        "product = Product(\"Laptop\", 1000, 3)\n",
        "\n",
        "# Calculate and print the total price\n",
        "print(f\"The total price of {product.name} is: ${product.total_price()}\")  # Output: 3000\n"
      ],
      "metadata": {
        "colab": {
          "base_uri": "https://localhost:8080/"
        },
        "id": "4rot3aNg8zvM",
        "outputId": "caa549c8-14f4-490f-e3f1-005370ec926a"
      },
      "execution_count": 16,
      "outputs": [
        {
          "output_type": "stream",
          "name": "stdout",
          "text": [
            "The total price of Laptop is: $3000\n"
          ]
        }
      ]
    },
    {
      "cell_type": "code",
      "source": [
        "# 16. Create a class Animal with an abstract method sound(). Create two derived classes Cow and Sheep thatimplement the sound() method.\n",
        "\n",
        "from abc import ABC, abstractmethod\n",
        "\n",
        "# Abstract class\n",
        "class Animal(ABC):\n",
        "    @abstractmethod\n",
        "    def sound(self):\n",
        "        pass\n",
        "\n",
        "# Derived class: Cow\n",
        "class Cow(Animal):\n",
        "    def sound(self):\n",
        "        return \"Moo\"\n",
        "\n",
        "# Derived class: Sheep\n",
        "class Sheep(Animal):\n",
        "    def sound(self):\n",
        "        return \"Baa\"\n",
        "\n",
        "# Create objects of Cow and Sheep and call the sound method\n",
        "cow = Cow()\n",
        "sheep = Sheep()\n",
        "\n",
        "print(f\"Cow sound: {cow.sound()}\")  # Output: Moo\n",
        "print(f\"Sheep sound: {sheep.sound()}\")  # Output: Baa\n"
      ],
      "metadata": {
        "colab": {
          "base_uri": "https://localhost:8080/"
        },
        "id": "ivlwlX4n86kS",
        "outputId": "84168d3d-501b-4c67-b499-1d62c7d79a7a"
      },
      "execution_count": 17,
      "outputs": [
        {
          "output_type": "stream",
          "name": "stdout",
          "text": [
            "Cow sound: Moo\n",
            "Sheep sound: Baa\n"
          ]
        }
      ]
    },
    {
      "cell_type": "code",
      "source": [
        "# 17. Create a class Book with attributes title, author, and year_published. Add a method get_book_info() that returns a formatted string with the book's details.\n",
        "\n",
        "class Book:\n",
        "    def __init__(self, title, author, year_published):\n",
        "        self.title = title\n",
        "        self.author = author\n",
        "        self.year_published = year_published\n",
        "\n",
        "    def get_book_info(self):\n",
        "        return f\"Title: {self.title}\\nAuthor: {self.author}\\nYear Published: {self.year_published}\"\n",
        "\n",
        "# Create a Book object\n",
        "book = Book(\"The Great Gatsby\", \"F. Scott Fitzgerald\", 1925)\n",
        "\n",
        "# Get and print the book details\n",
        "print(book.get_book_info())"
      ],
      "metadata": {
        "colab": {
          "base_uri": "https://localhost:8080/"
        },
        "id": "-abaWpaL8_-g",
        "outputId": "af0914c4-868d-4c6f-955d-700c45186bba"
      },
      "execution_count": 18,
      "outputs": [
        {
          "output_type": "stream",
          "name": "stdout",
          "text": [
            "Title: The Great Gatsby\n",
            "Author: F. Scott Fitzgerald\n",
            "Year Published: 1925\n"
          ]
        }
      ]
    },
    {
      "cell_type": "code",
      "source": [
        "# 18. Create a class House with attributes address and price. Create a derived class Mansion that adds an attribute number_of_rooms.\n",
        "\n",
        "# Base class: House\n",
        "class House:\n",
        "    def __init__(self, address, price):\n",
        "        self.address = address\n",
        "        self.price = price\n",
        "\n",
        "# Derived class: Mansion\n",
        "class Mansion(House):\n",
        "    def __init__(self, address, price, number_of_rooms):\n",
        "        super().__init__(address, price)  # Initialize attributes from House\n",
        "        self.number_of_rooms = number_of_rooms\n",
        "\n",
        "    def display_info(self):\n",
        "        return f\"Address: {self.address}\\nPrice: ${self.price}\\nNumber of Rooms: {self.number_of_rooms}\"\n",
        "\n",
        "# Create a Mansion object\n",
        "mansion = Mansion(\"123 Luxury Lane\", 5000000, 10)\n",
        "\n",
        "# Display Mansion details\n",
        "print(mansion.display_info())"
      ],
      "metadata": {
        "colab": {
          "base_uri": "https://localhost:8080/"
        },
        "id": "K1l5OsT19EAl",
        "outputId": "9ba9bfcd-adf5-4e82-8b01-a5ffb1e6faae"
      },
      "execution_count": 19,
      "outputs": [
        {
          "output_type": "stream",
          "name": "stdout",
          "text": [
            "Address: 123 Luxury Lane\n",
            "Price: $5000000\n",
            "Number of Rooms: 10\n"
          ]
        }
      ]
    },
    {
      "cell_type": "code",
      "source": [],
      "metadata": {
        "id": "olS9e3NL9I96"
      },
      "execution_count": null,
      "outputs": []
    }
  ]
}